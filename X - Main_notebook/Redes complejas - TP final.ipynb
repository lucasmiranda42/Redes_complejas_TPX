{
 "cells": [
  {
   "cell_type": "code",
   "execution_count": 86,
   "metadata": {},
   "outputs": [],
   "source": [
    "import numpy as np\n",
    "import pandas as pd\n",
    "import matplotlib.pyplot as plt\n",
    "import networkx as nx\n",
    "import seaborn as sns\n",
    "from tqdm import tqdm_notebook as tqdm"
   ]
  },
  {
   "cell_type": "markdown",
   "metadata": {},
   "source": [
    "# Carga y formateo de los datos"
   ]
  },
  {
   "cell_type": "markdown",
   "metadata": {},
   "source": [
    "En primer lugar, la red consolidada a partir de 100 iteraciones de ARACNe se carga y formatea acorde a los estándares de networkx"
   ]
  },
  {
   "cell_type": "code",
   "execution_count": 87,
   "metadata": {},
   "outputs": [
    {
     "data": {
      "text/html": [
       "<div>\n",
       "<style scoped>\n",
       "    .dataframe tbody tr th:only-of-type {\n",
       "        vertical-align: middle;\n",
       "    }\n",
       "\n",
       "    .dataframe tbody tr th {\n",
       "        vertical-align: top;\n",
       "    }\n",
       "\n",
       "    .dataframe thead th {\n",
       "        text-align: right;\n",
       "    }\n",
       "</style>\n",
       "<table border=\"1\" class=\"dataframe\">\n",
       "  <thead>\n",
       "    <tr style=\"text-align: right;\">\n",
       "      <th></th>\n",
       "      <th>Regulator</th>\n",
       "      <th>Target</th>\n",
       "      <th>MI</th>\n",
       "      <th>pvalue</th>\n",
       "    </tr>\n",
       "  </thead>\n",
       "  <tbody>\n",
       "    <tr>\n",
       "      <th>0</th>\n",
       "      <td>ZNF358</td>\n",
       "      <td>SF3A2</td>\n",
       "      <td>0.612053</td>\n",
       "      <td>0.000000</td>\n",
       "    </tr>\n",
       "    <tr>\n",
       "      <th>1</th>\n",
       "      <td>ELMSAN1</td>\n",
       "      <td>CHCHD1</td>\n",
       "      <td>0.525724</td>\n",
       "      <td>0.000000</td>\n",
       "    </tr>\n",
       "    <tr>\n",
       "      <th>2</th>\n",
       "      <td>BACH2</td>\n",
       "      <td>ANG</td>\n",
       "      <td>0.308855</td>\n",
       "      <td>0.000000</td>\n",
       "    </tr>\n",
       "    <tr>\n",
       "      <th>3</th>\n",
       "      <td>ELMSAN1</td>\n",
       "      <td>CHCHD5</td>\n",
       "      <td>0.565516</td>\n",
       "      <td>0.000000</td>\n",
       "    </tr>\n",
       "    <tr>\n",
       "      <th>4</th>\n",
       "      <td>ELMSAN1</td>\n",
       "      <td>CHCHD6</td>\n",
       "      <td>0.416291</td>\n",
       "      <td>0.000761</td>\n",
       "    </tr>\n",
       "  </tbody>\n",
       "</table>\n",
       "</div>"
      ],
      "text/plain": [
       "  Regulator  Target        MI    pvalue\n",
       "0    ZNF358   SF3A2  0.612053  0.000000\n",
       "1   ELMSAN1  CHCHD1  0.525724  0.000000\n",
       "2     BACH2     ANG  0.308855  0.000000\n",
       "3   ELMSAN1  CHCHD5  0.565516  0.000000\n",
       "4   ELMSAN1  CHCHD6  0.416291  0.000761"
      ]
     },
     "execution_count": 87,
     "metadata": {},
     "output_type": "execute_result"
    }
   ],
   "source": [
    "ARACNe_output = pd.read_csv('../2 - Armado de la red/ARACNe_final_network.txt', sep='\\t')\n",
    "ARACNe_output.head()"
   ]
  },
  {
   "cell_type": "code",
   "execution_count": 88,
   "metadata": {},
   "outputs": [],
   "source": [
    "edgelist = [[i,j] for i,j in zip(ARACNe_output['Regulator'],ARACNe_output['Target'])]\n",
    "ARACNe_net = nx.DiGraph(edgelist)"
   ]
  },
  {
   "cell_type": "code",
   "execution_count": 89,
   "metadata": {},
   "outputs": [
    {
     "data": {
      "text/html": [
       "<div>\n",
       "<style scoped>\n",
       "    .dataframe tbody tr th:only-of-type {\n",
       "        vertical-align: middle;\n",
       "    }\n",
       "\n",
       "    .dataframe tbody tr th {\n",
       "        vertical-align: top;\n",
       "    }\n",
       "\n",
       "    .dataframe thead th {\n",
       "        text-align: right;\n",
       "    }\n",
       "</style>\n",
       "<table border=\"1\" class=\"dataframe\">\n",
       "  <thead>\n",
       "    <tr style=\"text-align: right;\">\n",
       "      <th></th>\n",
       "      <th>ZNF20</th>\n",
       "    </tr>\n",
       "  </thead>\n",
       "  <tbody>\n",
       "    <tr>\n",
       "      <th>0</th>\n",
       "      <td>PHF20</td>\n",
       "    </tr>\n",
       "    <tr>\n",
       "      <th>1</th>\n",
       "      <td>AIRE</td>\n",
       "    </tr>\n",
       "    <tr>\n",
       "      <th>2</th>\n",
       "      <td>ZSCAN20</td>\n",
       "    </tr>\n",
       "    <tr>\n",
       "      <th>3</th>\n",
       "      <td>ZBTB20</td>\n",
       "    </tr>\n",
       "    <tr>\n",
       "      <th>4</th>\n",
       "      <td>BACH2</td>\n",
       "    </tr>\n",
       "  </tbody>\n",
       "</table>\n",
       "</div>"
      ],
      "text/plain": [
       "     ZNF20\n",
       "0    PHF20\n",
       "1     AIRE\n",
       "2  ZSCAN20\n",
       "3   ZBTB20\n",
       "4    BACH2"
      ]
     },
     "execution_count": 89,
     "metadata": {},
     "output_type": "execute_result"
    }
   ],
   "source": [
    "#Cargamos los factores de transcripción\n",
    "TFs = pd.read_csv('../1 - Data/TFs.txt')\n",
    "TFs.head()"
   ]
  },
  {
   "cell_type": "code",
   "execution_count": 90,
   "metadata": {},
   "outputs": [],
   "source": [
    "#Indicamos cuáles son factores de transcripción\n",
    "TFs_net = np.isin(list(ARACNe_net.nodes()), TFs).astype(int).astype(float)\n",
    "TFs_polygon = []\n",
    "for tf in TFs_net:\n",
    "    if tf == 0.0:\n",
    "        TFs_polygon.append(4)\n",
    "    elif tf == 1.0:\n",
    "        TFs_polygon.append(10000)\n",
    "\n",
    "nx.set_node_attributes(ARACNe_net, {k:v for k,v in zip(ARACNe_net.nodes(),TFs_net)}, 'TF')\n",
    "nx.set_node_attributes(ARACNe_net, {k:v for k,v in zip(ARACNe_net.nodes(),TFs_polygon)}, 'Pol')"
   ]
  },
  {
   "cell_type": "code",
   "execution_count": 91,
   "metadata": {},
   "outputs": [],
   "source": [
    "#Agregamos MI y pvalue como atributos de los edges\n",
    "nx.set_edge_attributes(ARACNe_net,{k:v for k,v in zip(ARACNe_net.edges(),np.array(ARACNe_output['MI']).astype(float))}, 'MI')\n",
    "nx.set_edge_attributes(ARACNe_net,{k:v for k,v in zip(ARACNe_net.edges(),np.array(ARACNe_output['pvalue']).astype(float))}, 'pvalue')"
   ]
  },
  {
   "cell_type": "markdown",
   "metadata": {},
   "source": [
    "# Caracterización de la red"
   ]
  },
  {
   "cell_type": "code",
   "execution_count": 92,
   "metadata": {},
   "outputs": [],
   "source": [
    "#Caracterizamos generalmente la red\n",
    "ARACNe_caracterization = {} \n",
    "\n",
    "ARACNe_caracterization = {}\n",
    "ARACNe_caracterization[\"Nodos\"] = nx.number_of_nodes(ARACNe_net)\n",
    "ARACNe_caracterization[\"Aristas\"] = nx.number_of_edges(ARACNe_net)\n",
    "ARACNe_caracterization[\"Dirigido\"] = \"Sí\"\n",
    "ARACNe_caracterization[\"Grado_min\"] = min(dict(nx.degree(ARACNe_net)).values())\n",
    "ARACNe_caracterization[\"Grado_max\"] = max(dict(nx.degree(ARACNe_net)).values())\n",
    "ARACNe_caracterization[\"Grado_medio\"] = round(np.mean(list(dict(nx.degree(ARACNe_net)).values())),4)\n",
    "ARACNe_caracterization[\"Densidad\"] = round(nx.density(ARACNe_net),4)\n",
    "ARACNe_caracterization[\"Transitividad\"] = round(nx.transitivity(ARACNe_net),4)"
   ]
  },
  {
   "cell_type": "code",
   "execution_count": 93,
   "metadata": {},
   "outputs": [
    {
     "data": {
      "text/html": [
       "<div>\n",
       "<style scoped>\n",
       "    .dataframe tbody tr th:only-of-type {\n",
       "        vertical-align: middle;\n",
       "    }\n",
       "\n",
       "    .dataframe tbody tr th {\n",
       "        vertical-align: top;\n",
       "    }\n",
       "\n",
       "    .dataframe thead th {\n",
       "        text-align: right;\n",
       "    }\n",
       "</style>\n",
       "<table border=\"1\" class=\"dataframe\">\n",
       "  <thead>\n",
       "    <tr style=\"text-align: right;\">\n",
       "      <th></th>\n",
       "      <th>Aristas</th>\n",
       "      <th>Densidad</th>\n",
       "      <th>Dirigido</th>\n",
       "      <th>Grado_max</th>\n",
       "      <th>Grado_medio</th>\n",
       "      <th>Grado_min</th>\n",
       "      <th>Nodos</th>\n",
       "      <th>Transitividad</th>\n",
       "    </tr>\n",
       "  </thead>\n",
       "  <tbody>\n",
       "    <tr>\n",
       "      <th>ARACNe_net</th>\n",
       "      <td>77181</td>\n",
       "      <td>0.0004</td>\n",
       "      <td>Sí</td>\n",
       "      <td>376</td>\n",
       "      <td>10.853</td>\n",
       "      <td>1</td>\n",
       "      <td>14223</td>\n",
       "      <td>0.0037</td>\n",
       "    </tr>\n",
       "  </tbody>\n",
       "</table>\n",
       "</div>"
      ],
      "text/plain": [
       "           Aristas Densidad Dirigido Grado_max Grado_medio Grado_min  Nodos  \\\n",
       "ARACNe_net   77181   0.0004       Sí       376      10.853         1  14223   \n",
       "\n",
       "           Transitividad  \n",
       "ARACNe_net        0.0037  "
      ]
     },
     "execution_count": 93,
     "metadata": {},
     "output_type": "execute_result"
    }
   ],
   "source": [
    "ARACNe_df = pd.DataFrame({'ARACNe_net':ARACNe_caracterization})\n",
    "ARACNe_df.T"
   ]
  },
  {
   "cell_type": "code",
   "execution_count": 94,
   "metadata": {},
   "outputs": [],
   "source": [
    "#Calculamos la distribución de grado para la red completa\n",
    "import collections \n",
    "degree_sequence_ARACNe_net = np.array(sorted([d for n, d in ARACNe_net.degree()], reverse=True))"
   ]
  },
  {
   "cell_type": "code",
   "execution_count": 95,
   "metadata": {},
   "outputs": [
    {
     "data": {
      "image/png": "[encoded data removed]",
      "text/plain": [
       "<Figure size 864x432 with 1 Axes>"
      ]
     },
     "metadata": {},
     "output_type": "display_data"
    }
   ],
   "source": [
    "#Graficamos la distribución de grado para la red completa\n",
    "plt.rcParams['figure.figsize'] = (12,6)\n",
    "sns.distplot(degree_sequence_ARACNe_net, bins=160, kde=False, norm_hist=False)#, shade=True)\n",
    "plt.title(\"Distribución de grado ARACNe_net\")\n",
    "plt.xlabel('Grado')\n",
    "plt.ylabel('Counts')\n",
    "plt.show()"
   ]
  },
  {
   "cell_type": "code",
   "execution_count": 96,
   "metadata": {},
   "outputs": [],
   "source": [
    "import powerlaw as powerlaw2\n",
    "from scipy.stats import powerlaw as powerlaw3\n",
    "from scipy import optimize\n",
    "from scipy import stats"
   ]
  },
  {
   "cell_type": "markdown",
   "metadata": {},
   "source": [
    "Verificamos que la red sea libre de escala, tal y como se menciona en bibliografía, a través del ajuste a una power law"
   ]
  },
  {
   "cell_type": "code",
   "execution_count": 97,
   "metadata": {},
   "outputs": [],
   "source": [
    "start = 20\n",
    "dhist = np.array( nx.degree_histogram(ARACNe_net)[start:])"
   ]
  },
  {
   "cell_type": "code",
   "execution_count": 98,
   "metadata": {},
   "outputs": [
    {
     "name": "stdout",
     "output_type": "stream",
     "text": [
      "y =  4.47 * x^-2.04   R2: 0.79 \n"
     ]
    }
   ],
   "source": [
    "bins = 400\n",
    "xdata = np.logspace(np.log10(start),np.log10(len(dhist) ) , bins)\n",
    "ydata = np.histogram(dhist,bins = np.logspace(0,np.log10(len(dhist) ) , bins+1))[0]\n",
    "\n",
    "xdata = np.array([i for i,j in zip(xdata,ydata) if j!=0])\n",
    "ydata = np.array([i for i in ydata if i!=0])\n",
    "\n",
    "#  y = a * x^b\n",
    "#  log(y) = log(a) + b*log(x)\n",
    "\n",
    "\n",
    "logx = np.log10(xdata + 1)\n",
    "logy = np.log10(ydata + 1)\n",
    "\n",
    "# define our (line) fitting function\n",
    "powerlaw = lambda x, amp, index: amp * (x**index)\n",
    "\n",
    "slope, intercept, r_value, p_value, std_err = stats.linregress(logx, logy)\n",
    "\n",
    "c = 10*intercept\n",
    "\n",
    "print('y = %5.2f * x^%5.2f   R2: %2.2f ' % (intercept,slope,r_value**2)  )"
   ]
  },
  {
   "cell_type": "code",
   "execution_count": 99,
   "metadata": {},
   "outputs": [
    {
     "data": {
      "image/png": "[encoded data removed]",
      "text/plain": [
       "<Figure size 864x432 with 1 Axes>"
      ]
     },
     "metadata": {},
     "output_type": "display_data"
    }
   ],
   "source": [
    "x = np.linspace(logx[0],logx[-1],1000)\n",
    "y = [i*slope+intercept for i in x]\n",
    "\n",
    "plt.plot(x, y)\n",
    "plt.scatter(logx, logy, c='orange')  # Data\n",
    "\n",
    "plt.title('Best fit Power Law con datos linealizados y binning logarítmico')\n",
    "plt.xlabel('log(Grado)')\n",
    "plt.ylabel('log(Counts)')\n",
    "#plt.ylim(0.2,1.7)\n",
    "plt.show()"
   ]
  },
  {
   "cell_type": "markdown",
   "metadata": {},
   "source": [
    "El mal ajuste puede deberse a que estamos lidiando con una red bipartita. Sólo los factores de transcripción pueden regular genes."
   ]
  },
  {
   "cell_type": "markdown",
   "metadata": {},
   "source": [
    "Qué pasa si vemos la distribución de grado de los TFs (lo cual es equivalente a estudiar la distribución de Kout en el grafo dirigido)?"
   ]
  },
  {
   "cell_type": "markdown",
   "metadata": {},
   "source": [
    "## Resultados de expresión diferencial"
   ]
  },
  {
   "cell_type": "code",
   "execution_count": 100,
   "metadata": {
    "scrolled": false
   },
   "outputs": [],
   "source": [
    "#Cargamos los resultados de expresión diferencial obtenidos con DESeq2 en R para todas las muestras, para BRAF y para RAS like\n",
    "DE_all = pd.read_csv('DataDEG_all_paired_samples.tsv', sep='\\t')\n",
    "DE_BRAF = pd.read_csv('DataDEG_BRAF_paired_samples.tsv', sep='\\t')\n",
    "DE_RAS = pd.read_csv('DataDEG_RAS_paired_samples.tsv', sep='\\t')"
   ]
  },
  {
   "cell_type": "code",
   "execution_count": 101,
   "metadata": {},
   "outputs": [
    {
     "data": {
      "text/html": [
       "<div>\n",
       "<style scoped>\n",
       "    .dataframe tbody tr th:only-of-type {\n",
       "        vertical-align: middle;\n",
       "    }\n",
       "\n",
       "    .dataframe tbody tr th {\n",
       "        vertical-align: top;\n",
       "    }\n",
       "\n",
       "    .dataframe thead th {\n",
       "        text-align: right;\n",
       "    }\n",
       "</style>\n",
       "<table border=\"1\" class=\"dataframe\">\n",
       "  <thead>\n",
       "    <tr style=\"text-align: right;\">\n",
       "      <th></th>\n",
       "      <th>mRNA</th>\n",
       "      <th>logFC</th>\n",
       "      <th>FDR</th>\n",
       "      <th>NT</th>\n",
       "      <th>TP</th>\n",
       "      <th>Delta</th>\n",
       "    </tr>\n",
       "  </thead>\n",
       "  <tbody>\n",
       "    <tr>\n",
       "      <th>MAP3K12</th>\n",
       "      <td>MAP3K12</td>\n",
       "      <td>7.036613</td>\n",
       "      <td>0.000000e+00</td>\n",
       "      <td>56372.396552</td>\n",
       "      <td>7.559213e+06</td>\n",
       "      <td>396670.743598</td>\n",
       "    </tr>\n",
       "    <tr>\n",
       "      <th>VARS2</th>\n",
       "      <td>VARS2</td>\n",
       "      <td>6.348734</td>\n",
       "      <td>8.883460e-309</td>\n",
       "      <td>2074.948276</td>\n",
       "      <td>1.972755e+05</td>\n",
       "      <td>13173.295153</td>\n",
       "    </tr>\n",
       "    <tr>\n",
       "      <th>P2RX1</th>\n",
       "      <td>P2RX1</td>\n",
       "      <td>5.628921</td>\n",
       "      <td>1.377294e-259</td>\n",
       "      <td>8546.120690</td>\n",
       "      <td>4.023338e+05</td>\n",
       "      <td>48105.441893</td>\n",
       "    </tr>\n",
       "    <tr>\n",
       "      <th>SPRED1</th>\n",
       "      <td>SPRED1</td>\n",
       "      <td>5.605303</td>\n",
       "      <td>4.180294e-258</td>\n",
       "      <td>4579.172414</td>\n",
       "      <td>2.039114e+05</td>\n",
       "      <td>25667.648795</td>\n",
       "    </tr>\n",
       "    <tr>\n",
       "      <th>CDC42BPA</th>\n",
       "      <td>CDC42BPA</td>\n",
       "      <td>5.521321</td>\n",
       "      <td>1.682006e-252</td>\n",
       "      <td>27200.551724</td>\n",
       "      <td>1.345510e+06</td>\n",
       "      <td>150182.989221</td>\n",
       "    </tr>\n",
       "  </tbody>\n",
       "</table>\n",
       "</div>"
      ],
      "text/plain": [
       "              mRNA     logFC            FDR            NT            TP  \\\n",
       "MAP3K12    MAP3K12  7.036613   0.000000e+00  56372.396552  7.559213e+06   \n",
       "VARS2        VARS2  6.348734  8.883460e-309   2074.948276  1.972755e+05   \n",
       "P2RX1        P2RX1  5.628921  1.377294e-259   8546.120690  4.023338e+05   \n",
       "SPRED1      SPRED1  5.605303  4.180294e-258   4579.172414  2.039114e+05   \n",
       "CDC42BPA  CDC42BPA  5.521321  1.682006e-252  27200.551724  1.345510e+06   \n",
       "\n",
       "                  Delta  \n",
       "MAP3K12   396670.743598  \n",
       "VARS2      13173.295153  \n",
       "P2RX1      48105.441893  \n",
       "SPRED1     25667.648795  \n",
       "CDC42BPA  150182.989221  "
      ]
     },
     "execution_count": 101,
     "metadata": {},
     "output_type": "execute_result"
    }
   ],
   "source": [
    "DE_all.head()"
   ]
  },
  {
   "cell_type": "code",
   "execution_count": 102,
   "metadata": {},
   "outputs": [],
   "source": [
    "#FC=1.25\n",
    "DE_all_dict = {k:v for k,v in zip(DE_all['mRNA'],DE_all['logFC'])}\n",
    "DE_BRAF_dict = {k:v for k,v in zip(DE_BRAF['mRNA'],DE_BRAF['logFC'])}\n",
    "DE_RAS_dict = {k:v for k,v in zip(DE_RAS['mRNA'],DE_RAS['logFC'])}"
   ]
  },
  {
   "cell_type": "code",
   "execution_count": 103,
   "metadata": {},
   "outputs": [
    {
     "data": {
      "image/png": "[encoded data removed]",
      "text/plain": [
       "<Figure size 864x432 with 1 Axes>"
      ]
     },
     "metadata": {},
     "output_type": "display_data"
    }
   ],
   "source": [
    "#Hago un diagrama de Venn con las keys de los tres diccionarios. Qué tanto se parecen los DEGs en los tres casos?\n",
    "plt.rcParams['figure.figsize'] = (12,6)\n",
    "\n",
    "#Diagrama de Venn para ver solapamiento entre variantes de las tres bases de datos\n",
    "from matplotlib_venn import venn3\n",
    "\n",
    "# Diagrama de Venn para FC=1.25\n",
    "v=venn3(subsets = ([set(DE_all_dict.keys()),set(DE_BRAF_dict.keys()),set(DE_RAS_dict.keys())]),\n",
    "        set_labels = ('All', 'BRAF-like', 'RAS-like'))\n",
    "\n",
    "plt.show() "
   ]
  },
  {
   "cell_type": "code",
   "execution_count": 104,
   "metadata": {
    "scrolled": true
   },
   "outputs": [],
   "source": [
    "#Qué genes aparecen diferencialmente expresados en las tres condiciones? #ACA SE PUEDE HACER ENRIQUECIMIENTO POR GO\n",
    "#for i in [j for j in DE_RAS_dict.keys() if j in DE_BRAF_dict.keys() and j not in DE_all_dict.keys()]:\n",
    "#    print(i)"
   ]
  },
  {
   "cell_type": "code",
   "execution_count": 105,
   "metadata": {},
   "outputs": [
    {
     "data": {
      "text/plain": [
       "mrs_all_DEGs     3.105801\n",
       "mrs_BRAF_DEGs    3.878494\n",
       "mrs_RAS_DEGs    -0.483837\n",
       "Name: NFKB2, dtype: float64"
      ]
     },
     "execution_count": 105,
     "metadata": {},
     "output_type": "execute_result"
    }
   ],
   "source": [
    "#Cargamos las signatures del MRA. A cada gen y en cada comparación (all, BRAF, RAS) se le asigna un valor entre sobreexpresado\n",
    "#en cáncer (signature > 1), estable (-1 < signature < 1) y subexpresado en cáncer (signature < -1).\n",
    "MRA_DEG_df = pd.read_csv('RMA_DEG_signatures.tsv', sep='\\t')\n",
    "MRA_DEG_df = MRA_DEG_df[np.invert(MRA_DEG_df.index.duplicated())]\n",
    "MRA_DEG_df.loc['NFKB2']"
   ]
  },
  {
   "cell_type": "code",
   "execution_count": 106,
   "metadata": {},
   "outputs": [
    {
     "data": {
      "application/vnd.jupyter.widget-view+json": {
       "model_id": "439f1e4486014633986718f5032d4d03",
       "version_major": 2,
       "version_minor": 0
      },
      "text/plain": [
       "HBox(children=(IntProgress(value=0, max=14223), HTML(value='')))"
      ]
     },
     "metadata": {},
     "output_type": "display_data"
    },
    {
     "name": "stdout",
     "output_type": "stream",
     "text": [
      "\n"
     ]
    }
   ],
   "source": [
    "#Cargamos el logFC como atributo de la red, para cada uno de los tres análisis realizados. \n",
    "#Va a ser usado para graficar las redes ego\n",
    "DE_all_net, DE_BRAF_net, DE_RAS_net = {}, {}, {}\n",
    "for node in tqdm(ARACNe_net.nodes()):\n",
    "    #Actualizo all dict\n",
    "    value = MRA_DEG_df['mrs_all_DEGs'][node]\n",
    "    \n",
    "    if value > 1 or value < -1:\n",
    "        DE_all_net[node] = int(value/np.abs(value))\n",
    "    else:    \n",
    "        DE_all_net[node] = 0\n",
    "        \n",
    "    #Actualizo BRAF dict\n",
    "    value = MRA_DEG_df['mrs_BRAF_DEGs'][node]\n",
    "   \n",
    "    if value > 1 or value < -1:\n",
    "        DE_BRAF_net[node] = int(value/np.abs(value))\n",
    "    else:    \n",
    "        DE_BRAF_net[node] = 0\n",
    "    \n",
    "    #Actualizo all dict\n",
    "    value = MRA_DEG_df['mrs_RAS_DEGs'][node]\n",
    "    \n",
    "    if value > 1 or value < -1:\n",
    "        DE_RAS_net[node] = int(value/np.abs(value))\n",
    "    else:    \n",
    "        DE_RAS_net[node] = 0"
   ]
  },
  {
   "cell_type": "code",
   "execution_count": 107,
   "metadata": {},
   "outputs": [
    {
     "data": {
      "text/plain": [
       "-1"
      ]
     },
     "execution_count": 107,
     "metadata": {},
     "output_type": "execute_result"
    }
   ],
   "source": [
    "DE_all_net['PEG3']"
   ]
  },
  {
   "cell_type": "code",
   "execution_count": 108,
   "metadata": {},
   "outputs": [],
   "source": [
    "nx.set_node_attributes(ARACNe_net, DE_all_net, 'DEall')\n",
    "nx.set_node_attributes(ARACNe_net, DE_BRAF_net, 'DEBRAF')\n",
    "nx.set_node_attributes(ARACNe_net, DE_RAS_net, 'DERAS')"
   ]
  },
  {
   "cell_type": "code",
   "execution_count": 109,
   "metadata": {},
   "outputs": [],
   "source": [
    "#Guardo la red como GML para cargarla en gephi\n",
    "nx.write_gml(ARACNe_net, 'ARACNe_net.gml')"
   ]
  },
  {
   "cell_type": "markdown",
   "metadata": {},
   "source": [
    "## Resultados del RMA"
   ]
  },
  {
   "cell_type": "code",
   "execution_count": 110,
   "metadata": {},
   "outputs": [],
   "source": [
    "#Cargamos los resultados del análisis de Reguladores Maestros obtenidos con VIPER en R para todas las muestras,\n",
    "#para BRAF y para RAS like\n",
    "RMA_all = pd.read_csv('RMA_results_all.tsv', sep='\\t')\n",
    "RMA_BRAF = pd.read_csv('RMA_results_BRAF.tsv', sep='\\t')\n",
    "RMA_RAS = pd.read_csv('RMA_results_RAS.tsv', sep='\\t')"
   ]
  },
  {
   "cell_type": "code",
   "execution_count": 111,
   "metadata": {},
   "outputs": [],
   "source": [
    "#Cargamos los resultados de shadowing para el análisis de Reguladores Maestros.\n",
    "RMA_all_shadow = pd.read_csv('RMA_shadow_all.tsv', sep='\\t')\n",
    "RMA_BRAF_shadow = pd.read_csv('RMA_shadow_BRAF.tsv', sep='\\t')\n",
    "RMA_RAS_shadow = pd.read_csv('RMA_shadow_RAS.tsv', sep='\\t')"
   ]
  },
  {
   "cell_type": "code",
   "execution_count": 112,
   "metadata": {},
   "outputs": [
    {
     "data": {
      "text/html": [
       "<div>\n",
       "<style scoped>\n",
       "    .dataframe tbody tr th:only-of-type {\n",
       "        vertical-align: middle;\n",
       "    }\n",
       "\n",
       "    .dataframe tbody tr th {\n",
       "        vertical-align: top;\n",
       "    }\n",
       "\n",
       "    .dataframe thead th {\n",
       "        text-align: right;\n",
       "    }\n",
       "</style>\n",
       "<table border=\"1\" class=\"dataframe\">\n",
       "  <thead>\n",
       "    <tr style=\"text-align: right;\">\n",
       "      <th></th>\n",
       "      <th>Regulon</th>\n",
       "      <th>Size</th>\n",
       "      <th>NES</th>\n",
       "      <th>p.value</th>\n",
       "      <th>FDR</th>\n",
       "      <th>Synergy</th>\n",
       "      <th>Ledge</th>\n",
       "    </tr>\n",
       "  </thead>\n",
       "  <tbody>\n",
       "    <tr>\n",
       "      <th>ETV4</th>\n",
       "      <td>ETV4</td>\n",
       "      <td>154</td>\n",
       "      <td>4.49</td>\n",
       "      <td>0.000007</td>\n",
       "      <td>0.00303</td>\n",
       "      <td>NaN</td>\n",
       "      <td>RNF24, IGF2BP2, GALNT7, RAD23B, + 151 genes</td>\n",
       "    </tr>\n",
       "    <tr>\n",
       "      <th>LRRFIP2--GZF1</th>\n",
       "      <td>LRRFIP2--GZF1</td>\n",
       "      <td>27</td>\n",
       "      <td>4.22</td>\n",
       "      <td>0.000024</td>\n",
       "      <td>0.00437</td>\n",
       "      <td>0.000011</td>\n",
       "      <td>NaN</td>\n",
       "    </tr>\n",
       "    <tr>\n",
       "      <th>ETV5</th>\n",
       "      <td>ETV5</td>\n",
       "      <td>95</td>\n",
       "      <td>4.09</td>\n",
       "      <td>0.000043</td>\n",
       "      <td>0.00653</td>\n",
       "      <td>NaN</td>\n",
       "      <td>IGF2BP2, PPP5C, AGPAT4, KIAA1211L, + 77 genes</td>\n",
       "    </tr>\n",
       "    <tr>\n",
       "      <th>RARA</th>\n",
       "      <td>RARA</td>\n",
       "      <td>222</td>\n",
       "      <td>3.87</td>\n",
       "      <td>0.000110</td>\n",
       "      <td>0.00911</td>\n",
       "      <td>NaN</td>\n",
       "      <td>LRIG1, BMP1, SEMA4C, FTCDNL1, + 232 genes</td>\n",
       "    </tr>\n",
       "    <tr>\n",
       "      <th>NR1D1</th>\n",
       "      <td>NR1D1</td>\n",
       "      <td>33</td>\n",
       "      <td>3.85</td>\n",
       "      <td>0.000116</td>\n",
       "      <td>0.00911</td>\n",
       "      <td>NaN</td>\n",
       "      <td>B3GNT7, PLA2R1, TBC1D4, TDRKH-AS1, + 28 genes</td>\n",
       "    </tr>\n",
       "  </tbody>\n",
       "</table>\n",
       "</div>"
      ],
      "text/plain": [
       "                     Regulon  Size   NES   p.value      FDR   Synergy  \\\n",
       "ETV4                    ETV4   154  4.49  0.000007  0.00303       NaN   \n",
       "LRRFIP2--GZF1  LRRFIP2--GZF1    27  4.22  0.000024  0.00437  0.000011   \n",
       "ETV5                    ETV5    95  4.09  0.000043  0.00653       NaN   \n",
       "RARA                    RARA   222  3.87  0.000110  0.00911       NaN   \n",
       "NR1D1                  NR1D1    33  3.85  0.000116  0.00911       NaN   \n",
       "\n",
       "                                                       Ledge  \n",
       "ETV4             RNF24, IGF2BP2, GALNT7, RAD23B, + 151 genes  \n",
       "LRRFIP2--GZF1                                            NaN  \n",
       "ETV5           IGF2BP2, PPP5C, AGPAT4, KIAA1211L, + 77 genes  \n",
       "RARA               LRIG1, BMP1, SEMA4C, FTCDNL1, + 232 genes  \n",
       "NR1D1          B3GNT7, PLA2R1, TBC1D4, TDRKH-AS1, + 28 genes  "
      ]
     },
     "execution_count": 112,
     "metadata": {},
     "output_type": "execute_result"
    }
   ],
   "source": [
    "RMA_all.head()"
   ]
  },
  {
   "cell_type": "code",
   "execution_count": 113,
   "metadata": {},
   "outputs": [
    {
     "data": {
      "text/html": [
       "<div>\n",
       "<style scoped>\n",
       "    .dataframe tbody tr th:only-of-type {\n",
       "        vertical-align: middle;\n",
       "    }\n",
       "\n",
       "    .dataframe tbody tr th {\n",
       "        vertical-align: top;\n",
       "    }\n",
       "\n",
       "    .dataframe thead th {\n",
       "        text-align: right;\n",
       "    }\n",
       "</style>\n",
       "<table border=\"1\" class=\"dataframe\">\n",
       "  <thead>\n",
       "    <tr style=\"text-align: right;\">\n",
       "      <th></th>\n",
       "      <th>x</th>\n",
       "    </tr>\n",
       "  </thead>\n",
       "  <tbody>\n",
       "    <tr>\n",
       "      <th>1</th>\n",
       "      <td>ETV4 -&gt; RARA</td>\n",
       "    </tr>\n",
       "    <tr>\n",
       "      <th>2</th>\n",
       "      <td>TFCP2L1 -&gt; SMAD9</td>\n",
       "    </tr>\n",
       "    <tr>\n",
       "      <th>3</th>\n",
       "      <td>TFCP2L1 -&gt; HEY2</td>\n",
       "    </tr>\n",
       "    <tr>\n",
       "      <th>4</th>\n",
       "      <td>TFCP2L1 -&gt; RXRG</td>\n",
       "    </tr>\n",
       "    <tr>\n",
       "      <th>5</th>\n",
       "      <td>ZFP36L2 -&gt; ZFPM2</td>\n",
       "    </tr>\n",
       "  </tbody>\n",
       "</table>\n",
       "</div>"
      ],
      "text/plain": [
       "                  x\n",
       "1      ETV4 -> RARA\n",
       "2  TFCP2L1 -> SMAD9\n",
       "3   TFCP2L1 -> HEY2\n",
       "4   TFCP2L1 -> RXRG\n",
       "5  ZFP36L2 -> ZFPM2"
      ]
     },
     "execution_count": 113,
     "metadata": {},
     "output_type": "execute_result"
    }
   ],
   "source": [
    "RMA_all_shadow.head()"
   ]
  },
  {
   "cell_type": "code",
   "execution_count": null,
   "metadata": {},
   "outputs": [],
   "source": []
  }
 ],
 "metadata": {
  "kernelspec": {
   "display_name": "Python 3",
   "language": "python",
   "name": "python3"
  },
  "language_info": {
   "codemirror_mode": {
    "name": "ipython",
    "version": 3
   },
   "file_extension": ".py",
   "mimetype": "text/x-python",
   "name": "python",
   "nbconvert_exporter": "python",
   "pygments_lexer": "ipython3",
   "version": "3.6.6"
  },
  "toc": {
   "base_numbering": 1,
   "nav_menu": {},
   "number_sections": true,
   "sideBar": true,
   "skip_h1_title": false,
   "title_cell": "Table of Contents",
   "title_sidebar": "Contents",
   "toc_cell": false,
   "toc_position": {},
   "toc_section_display": true,
   "toc_window_display": false
  },
  "varInspector": {
   "cols": {
    "lenName": 16,
    "lenType": 16,
    "lenVar": 40
   },
   "kernels_config": {
    "python": {
     "delete_cmd_postfix": "",
     "delete_cmd_prefix": "del ",
     "library": "var_list.py",
     "varRefreshCmd": "print(var_dic_list())"
    },
    "r": {
     "delete_cmd_postfix": ") ",
     "delete_cmd_prefix": "rm(",
     "library": "var_list.r",
     "varRefreshCmd": "cat(var_dic_list()) "
    }
   },
   "types_to_exclude": [
    "module",
    "function",
    "builtin_function_or_method",
    "instance",
    "_Feature"
   ],
   "window_display": false
  }
 },
 "nbformat": 4,
 "nbformat_minor": 2
}
