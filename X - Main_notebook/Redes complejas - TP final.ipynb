{
 "cells": [
  {
   "cell_type": "code",
   "execution_count": 56,
   "metadata": {},
   "outputs": [],
   "source": [
    "import numpy as np\n",
    "import pandas as pd\n",
    "import matplotlib.pyplot as plt\n",
    "import networkx as nx\n",
    "import seaborn as sns\n",
    "from random import shuffle\n",
    "from tqdm import tqdm_notebook as tqdm"
   ]
  },
  {
   "cell_type": "markdown",
   "metadata": {},
   "source": [
    "# Carga y formateo de los datos"
   ]
  },
  {
   "cell_type": "markdown",
   "metadata": {},
   "source": [
    "En primer lugar, la red consolidada a partir de 100 iteraciones de ARACNe se carga y formatea acorde a los estándares de networkx"
   ]
  },
  {
   "cell_type": "code",
   "execution_count": 2,
   "metadata": {},
   "outputs": [
    {
     "data": {
      "text/html": [
       "<div>\n",
       "<style scoped>\n",
       "    .dataframe tbody tr th:only-of-type {\n",
       "        vertical-align: middle;\n",
       "    }\n",
       "\n",
       "    .dataframe tbody tr th {\n",
       "        vertical-align: top;\n",
       "    }\n",
       "\n",
       "    .dataframe thead th {\n",
       "        text-align: right;\n",
       "    }\n",
       "</style>\n",
       "<table border=\"1\" class=\"dataframe\">\n",
       "  <thead>\n",
       "    <tr style=\"text-align: right;\">\n",
       "      <th></th>\n",
       "      <th>Regulator</th>\n",
       "      <th>Target</th>\n",
       "      <th>MI</th>\n",
       "      <th>pvalue</th>\n",
       "    </tr>\n",
       "  </thead>\n",
       "  <tbody>\n",
       "    <tr>\n",
       "      <th>0</th>\n",
       "      <td>ZNF358</td>\n",
       "      <td>SF3A2</td>\n",
       "      <td>0.612053</td>\n",
       "      <td>0.000000</td>\n",
       "    </tr>\n",
       "    <tr>\n",
       "      <th>1</th>\n",
       "      <td>ELMSAN1</td>\n",
       "      <td>CHCHD1</td>\n",
       "      <td>0.525724</td>\n",
       "      <td>0.000000</td>\n",
       "    </tr>\n",
       "    <tr>\n",
       "      <th>2</th>\n",
       "      <td>BACH2</td>\n",
       "      <td>ANG</td>\n",
       "      <td>0.308855</td>\n",
       "      <td>0.000000</td>\n",
       "    </tr>\n",
       "    <tr>\n",
       "      <th>3</th>\n",
       "      <td>ELMSAN1</td>\n",
       "      <td>CHCHD5</td>\n",
       "      <td>0.565516</td>\n",
       "      <td>0.000000</td>\n",
       "    </tr>\n",
       "    <tr>\n",
       "      <th>4</th>\n",
       "      <td>ELMSAN1</td>\n",
       "      <td>CHCHD6</td>\n",
       "      <td>0.416291</td>\n",
       "      <td>0.000761</td>\n",
       "    </tr>\n",
       "  </tbody>\n",
       "</table>\n",
       "</div>"
      ],
      "text/plain": [
       "  Regulator  Target        MI    pvalue\n",
       "0    ZNF358   SF3A2  0.612053  0.000000\n",
       "1   ELMSAN1  CHCHD1  0.525724  0.000000\n",
       "2     BACH2     ANG  0.308855  0.000000\n",
       "3   ELMSAN1  CHCHD5  0.565516  0.000000\n",
       "4   ELMSAN1  CHCHD6  0.416291  0.000761"
      ]
     },
     "execution_count": 2,
     "metadata": {},
     "output_type": "execute_result"
    }
   ],
   "source": [
    "ARACNe_output = pd.read_csv('../2 - Armado de la red/ARACNe_final_network.txt', sep='\\t')\n",
    "ARACNe_output.head()"
   ]
  },
  {
   "cell_type": "code",
   "execution_count": 3,
   "metadata": {},
   "outputs": [],
   "source": [
    "edgelist = [[i,j] for i,j in zip(ARACNe_output['Regulator'],ARACNe_output['Target'])]\n",
    "ARACNe_net = nx.DiGraph(edgelist)"
   ]
  },
  {
   "cell_type": "code",
   "execution_count": 4,
   "metadata": {},
   "outputs": [
    {
     "data": {
      "text/html": [
       "<div>\n",
       "<style scoped>\n",
       "    .dataframe tbody tr th:only-of-type {\n",
       "        vertical-align: middle;\n",
       "    }\n",
       "\n",
       "    .dataframe tbody tr th {\n",
       "        vertical-align: top;\n",
       "    }\n",
       "\n",
       "    .dataframe thead th {\n",
       "        text-align: right;\n",
       "    }\n",
       "</style>\n",
       "<table border=\"1\" class=\"dataframe\">\n",
       "  <thead>\n",
       "    <tr style=\"text-align: right;\">\n",
       "      <th></th>\n",
       "      <th>ZNF20</th>\n",
       "    </tr>\n",
       "  </thead>\n",
       "  <tbody>\n",
       "    <tr>\n",
       "      <th>0</th>\n",
       "      <td>PHF20</td>\n",
       "    </tr>\n",
       "    <tr>\n",
       "      <th>1</th>\n",
       "      <td>AIRE</td>\n",
       "    </tr>\n",
       "    <tr>\n",
       "      <th>2</th>\n",
       "      <td>ZSCAN20</td>\n",
       "    </tr>\n",
       "    <tr>\n",
       "      <th>3</th>\n",
       "      <td>ZBTB20</td>\n",
       "    </tr>\n",
       "    <tr>\n",
       "      <th>4</th>\n",
       "      <td>BACH2</td>\n",
       "    </tr>\n",
       "  </tbody>\n",
       "</table>\n",
       "</div>"
      ],
      "text/plain": [
       "     ZNF20\n",
       "0    PHF20\n",
       "1     AIRE\n",
       "2  ZSCAN20\n",
       "3   ZBTB20\n",
       "4    BACH2"
      ]
     },
     "execution_count": 4,
     "metadata": {},
     "output_type": "execute_result"
    }
   ],
   "source": [
    "#Cargamos los factores de transcripción\n",
    "TFs = pd.read_csv('../1 - Data/TFs.txt')\n",
    "TFs.head()"
   ]
  },
  {
   "cell_type": "code",
   "execution_count": 5,
   "metadata": {},
   "outputs": [],
   "source": [
    "#Indicamos cuáles son factores de transcripción\n",
    "TFs_net = np.isin(list(ARACNe_net.nodes()), TFs).astype(int).astype(float)\n",
    "TFs_polygon = []\n",
    "for tf in TFs_net:\n",
    "    if tf == 0.0:\n",
    "        TFs_polygon.append(4)\n",
    "    elif tf == 1.0:\n",
    "        TFs_polygon.append(10000)\n",
    "\n",
    "nx.set_node_attributes(ARACNe_net, {k:v for k,v in zip(ARACNe_net.nodes(),TFs_net)}, 'TF')\n",
    "nx.set_node_attributes(ARACNe_net, {k:v for k,v in zip(ARACNe_net.nodes(),TFs_polygon)}, 'Pol')"
   ]
  },
  {
   "cell_type": "code",
   "execution_count": 6,
   "metadata": {},
   "outputs": [],
   "source": [
    "#Agregamos MI y pvalue como atributos de los edges\n",
    "nx.set_edge_attributes(ARACNe_net,{k:v for k,v in zip(ARACNe_net.edges(),np.array(ARACNe_output['MI']).astype(float))}, 'MI')\n",
    "nx.set_edge_attributes(ARACNe_net,{k:v for k,v in zip(ARACNe_net.edges(),np.array(ARACNe_output['pvalue']).astype(float))}, 'pvalue')"
   ]
  },
  {
   "cell_type": "markdown",
   "metadata": {},
   "source": [
    "# Caracterización de la red"
   ]
  },
  {
   "cell_type": "code",
   "execution_count": 7,
   "metadata": {},
   "outputs": [],
   "source": [
    "#Caracterizamos generalmente la red\n",
    "ARACNe_caracterization = {} \n",
    "\n",
    "ARACNe_caracterization = {}\n",
    "ARACNe_caracterization[\"Nodos\"] = nx.number_of_nodes(ARACNe_net)\n",
    "ARACNe_caracterization[\"Aristas\"] = nx.number_of_edges(ARACNe_net)\n",
    "ARACNe_caracterization[\"Dirigido\"] = \"Sí\"\n",
    "ARACNe_caracterization[\"Grado_min\"] = min(dict(nx.degree(ARACNe_net)).values())\n",
    "ARACNe_caracterization[\"Grado_max\"] = max(dict(nx.degree(ARACNe_net)).values())\n",
    "ARACNe_caracterization[\"Grado_medio\"] = round(np.mean(list(dict(nx.degree(ARACNe_net)).values())),4)\n",
    "ARACNe_caracterization[\"Densidad\"] = round(nx.density(ARACNe_net),4)\n",
    "ARACNe_caracterization[\"Transitividad\"] = round(nx.transitivity(ARACNe_net),4)"
   ]
  },
  {
   "cell_type": "code",
   "execution_count": 8,
   "metadata": {},
   "outputs": [
    {
     "data": {
      "text/html": [
       "<div>\n",
       "<style scoped>\n",
       "    .dataframe tbody tr th:only-of-type {\n",
       "        vertical-align: middle;\n",
       "    }\n",
       "\n",
       "    .dataframe tbody tr th {\n",
       "        vertical-align: top;\n",
       "    }\n",
       "\n",
       "    .dataframe thead th {\n",
       "        text-align: right;\n",
       "    }\n",
       "</style>\n",
       "<table border=\"1\" class=\"dataframe\">\n",
       "  <thead>\n",
       "    <tr style=\"text-align: right;\">\n",
       "      <th></th>\n",
       "      <th>Aristas</th>\n",
       "      <th>Densidad</th>\n",
       "      <th>Dirigido</th>\n",
       "      <th>Grado_max</th>\n",
       "      <th>Grado_medio</th>\n",
       "      <th>Grado_min</th>\n",
       "      <th>Nodos</th>\n",
       "      <th>Transitividad</th>\n",
       "    </tr>\n",
       "  </thead>\n",
       "  <tbody>\n",
       "    <tr>\n",
       "      <th>ARACNe_net</th>\n",
       "      <td>77181</td>\n",
       "      <td>0.0004</td>\n",
       "      <td>Sí</td>\n",
       "      <td>376</td>\n",
       "      <td>10.853</td>\n",
       "      <td>1</td>\n",
       "      <td>14223</td>\n",
       "      <td>0.0037</td>\n",
       "    </tr>\n",
       "  </tbody>\n",
       "</table>\n",
       "</div>"
      ],
      "text/plain": [
       "           Aristas Densidad Dirigido Grado_max Grado_medio Grado_min  Nodos  \\\n",
       "ARACNe_net   77181   0.0004       Sí       376      10.853         1  14223   \n",
       "\n",
       "           Transitividad  \n",
       "ARACNe_net        0.0037  "
      ]
     },
     "execution_count": 8,
     "metadata": {},
     "output_type": "execute_result"
    }
   ],
   "source": [
    "ARACNe_df = pd.DataFrame({'ARACNe_net':ARACNe_caracterization})\n",
    "ARACNe_df.T"
   ]
  },
  {
   "cell_type": "code",
   "execution_count": 9,
   "metadata": {},
   "outputs": [],
   "source": [
    "#Calculamos la distribución de grado para la red completa\n",
    "import collections \n",
    "degree_sequence_ARACNe_net = np.array(sorted([d for n, d in ARACNe_net.degree()], reverse=True))"
   ]
  },
  {
   "cell_type": "code",
   "execution_count": 10,
   "metadata": {},
   "outputs": [
    {
     "data": {
      "image/png": "[encoded data removed]",
      "text/plain": [
       "<Figure size 864x432 with 1 Axes>"
      ]
     },
     "metadata": {},
     "output_type": "display_data"
    }
   ],
   "source": [
    "#Graficamos la distribución de grado para la red completa\n",
    "plt.rcParams['figure.figsize'] = (12,6)\n",
    "sns.distplot(degree_sequence_ARACNe_net, bins=160, kde=False, norm_hist=False)#, shade=True)\n",
    "plt.title(\"Distribución de grado ARACNe_net\")\n",
    "plt.xlabel('Grado')\n",
    "plt.ylabel('Counts')\n",
    "plt.show()"
   ]
  },
  {
   "cell_type": "code",
   "execution_count": 11,
   "metadata": {},
   "outputs": [],
   "source": [
    "import powerlaw as powerlaw2\n",
    "from scipy.stats import powerlaw as powerlaw3\n",
    "from scipy import optimize\n",
    "from scipy import stats"
   ]
  },
  {
   "cell_type": "markdown",
   "metadata": {},
   "source": [
    "Verificamos que la red sea libre de escala, tal y como se menciona en bibliografía, a través del ajuste a una power law"
   ]
  },
  {
   "cell_type": "code",
   "execution_count": 12,
   "metadata": {},
   "outputs": [],
   "source": [
    "start = 20\n",
    "dhist = np.array( nx.degree_histogram(ARACNe_net)[start:])"
   ]
  },
  {
   "cell_type": "code",
   "execution_count": 13,
   "metadata": {},
   "outputs": [
    {
     "name": "stdout",
     "output_type": "stream",
     "text": [
      "y =  4.47 * x^-2.04   R2: 0.79 \n"
     ]
    }
   ],
   "source": [
    "bins = 400\n",
    "xdata = np.logspace(np.log10(start),np.log10(len(dhist) ) , bins)\n",
    "ydata = np.histogram(dhist,bins = np.logspace(0,np.log10(len(dhist) ) , bins+1))[0]\n",
    "\n",
    "xdata = np.array([i for i,j in zip(xdata,ydata) if j!=0])\n",
    "ydata = np.array([i for i in ydata if i!=0])\n",
    "\n",
    "#  y = a * x^b\n",
    "#  log(y) = log(a) + b*log(x)\n",
    "\n",
    "\n",
    "logx = np.log10(xdata + 1)\n",
    "logy = np.log10(ydata + 1)\n",
    "\n",
    "# define our (line) fitting function\n",
    "powerlaw = lambda x, amp, index: amp * (x**index)\n",
    "\n",
    "slope, intercept, r_value, p_value, std_err = stats.linregress(logx, logy)\n",
    "\n",
    "c = 10*intercept\n",
    "\n",
    "print('y = %5.2f * x^%5.2f   R2: %2.2f ' % (intercept,slope,r_value**2)  )"
   ]
  },
  {
   "cell_type": "code",
   "execution_count": 14,
   "metadata": {},
   "outputs": [
    {
     "data": {
      "image/png": "[encoded data removed]",
      "text/plain": [
       "<Figure size 864x432 with 1 Axes>"
      ]
     },
     "metadata": {},
     "output_type": "display_data"
    }
   ],
   "source": [
    "x = np.linspace(logx[0],logx[-1],1000)\n",
    "y = [i*slope+intercept for i in x]\n",
    "\n",
    "plt.plot(x, y)\n",
    "plt.scatter(logx, logy, c='orange')  # Data\n",
    "\n",
    "plt.title('Best fit Power Law con datos linealizados y binning logarítmico')\n",
    "plt.xlabel('log(Grado)')\n",
    "plt.ylabel('log(Counts)')\n",
    "#plt.ylim(0.2,1.7)\n",
    "plt.show()"
   ]
  },
  {
   "cell_type": "markdown",
   "metadata": {},
   "source": [
    "El mal ajuste puede deberse a que estamos lidiando con una red bipartita. Sólo los factores de transcripción pueden regular genes."
   ]
  },
  {
   "cell_type": "markdown",
   "metadata": {},
   "source": [
    "Qué pasa si vemos la distribución de grado de los TFs (lo cual es equivalente a estudiar la distribución de Kout en el grafo dirigido)?"
   ]
  },
  {
   "cell_type": "markdown",
   "metadata": {},
   "source": [
    "# Resultados de expresión diferencial"
   ]
  },
  {
   "cell_type": "code",
   "execution_count": 15,
   "metadata": {
    "scrolled": false
   },
   "outputs": [],
   "source": [
    "#Cargamos los resultados de expresión diferencial obtenidos con DESeq2 en R para todas las muestras, para BRAF y para RAS like\n",
    "DE_all = pd.read_csv('DataDEG_all_paired_samples.tsv', sep='\\t')\n",
    "DE_BRAF = pd.read_csv('DataDEG_BRAF_paired_samples.tsv', sep='\\t')\n",
    "DE_RAS = pd.read_csv('DataDEG_RAS_paired_samples.tsv', sep='\\t')"
   ]
  },
  {
   "cell_type": "code",
   "execution_count": 16,
   "metadata": {},
   "outputs": [
    {
     "data": {
      "text/html": [
       "<div>\n",
       "<style scoped>\n",
       "    .dataframe tbody tr th:only-of-type {\n",
       "        vertical-align: middle;\n",
       "    }\n",
       "\n",
       "    .dataframe tbody tr th {\n",
       "        vertical-align: top;\n",
       "    }\n",
       "\n",
       "    .dataframe thead th {\n",
       "        text-align: right;\n",
       "    }\n",
       "</style>\n",
       "<table border=\"1\" class=\"dataframe\">\n",
       "  <thead>\n",
       "    <tr style=\"text-align: right;\">\n",
       "      <th></th>\n",
       "      <th>mRNA</th>\n",
       "      <th>logFC</th>\n",
       "      <th>FDR</th>\n",
       "      <th>NT</th>\n",
       "      <th>TP</th>\n",
       "      <th>Delta</th>\n",
       "    </tr>\n",
       "  </thead>\n",
       "  <tbody>\n",
       "    <tr>\n",
       "      <th>MAP3K12</th>\n",
       "      <td>MAP3K12</td>\n",
       "      <td>7.036613</td>\n",
       "      <td>0.000000e+00</td>\n",
       "      <td>56372.396552</td>\n",
       "      <td>7.559213e+06</td>\n",
       "      <td>396670.743598</td>\n",
       "    </tr>\n",
       "    <tr>\n",
       "      <th>VARS2</th>\n",
       "      <td>VARS2</td>\n",
       "      <td>6.348734</td>\n",
       "      <td>8.883460e-309</td>\n",
       "      <td>2074.948276</td>\n",
       "      <td>1.972755e+05</td>\n",
       "      <td>13173.295153</td>\n",
       "    </tr>\n",
       "    <tr>\n",
       "      <th>P2RX1</th>\n",
       "      <td>P2RX1</td>\n",
       "      <td>5.628921</td>\n",
       "      <td>1.377294e-259</td>\n",
       "      <td>8546.120690</td>\n",
       "      <td>4.023338e+05</td>\n",
       "      <td>48105.441893</td>\n",
       "    </tr>\n",
       "    <tr>\n",
       "      <th>SPRED1</th>\n",
       "      <td>SPRED1</td>\n",
       "      <td>5.605303</td>\n",
       "      <td>4.180294e-258</td>\n",
       "      <td>4579.172414</td>\n",
       "      <td>2.039114e+05</td>\n",
       "      <td>25667.648795</td>\n",
       "    </tr>\n",
       "    <tr>\n",
       "      <th>CDC42BPA</th>\n",
       "      <td>CDC42BPA</td>\n",
       "      <td>5.521321</td>\n",
       "      <td>1.682006e-252</td>\n",
       "      <td>27200.551724</td>\n",
       "      <td>1.345510e+06</td>\n",
       "      <td>150182.989221</td>\n",
       "    </tr>\n",
       "  </tbody>\n",
       "</table>\n",
       "</div>"
      ],
      "text/plain": [
       "              mRNA     logFC            FDR            NT            TP  \\\n",
       "MAP3K12    MAP3K12  7.036613   0.000000e+00  56372.396552  7.559213e+06   \n",
       "VARS2        VARS2  6.348734  8.883460e-309   2074.948276  1.972755e+05   \n",
       "P2RX1        P2RX1  5.628921  1.377294e-259   8546.120690  4.023338e+05   \n",
       "SPRED1      SPRED1  5.605303  4.180294e-258   4579.172414  2.039114e+05   \n",
       "CDC42BPA  CDC42BPA  5.521321  1.682006e-252  27200.551724  1.345510e+06   \n",
       "\n",
       "                  Delta  \n",
       "MAP3K12   396670.743598  \n",
       "VARS2      13173.295153  \n",
       "P2RX1      48105.441893  \n",
       "SPRED1     25667.648795  \n",
       "CDC42BPA  150182.989221  "
      ]
     },
     "execution_count": 16,
     "metadata": {},
     "output_type": "execute_result"
    }
   ],
   "source": [
    "DE_all.head()"
   ]
  },
  {
   "cell_type": "code",
   "execution_count": 17,
   "metadata": {},
   "outputs": [],
   "source": [
    "#FC=1.25\n",
    "DE_all_dict = {k:v for k,v in zip(DE_all['mRNA'],DE_all['logFC'])}\n",
    "DE_BRAF_dict = {k:v for k,v in zip(DE_BRAF['mRNA'],DE_BRAF['logFC'])}\n",
    "DE_RAS_dict = {k:v for k,v in zip(DE_RAS['mRNA'],DE_RAS['logFC'])}"
   ]
  },
  {
   "cell_type": "code",
   "execution_count": 18,
   "metadata": {},
   "outputs": [
    {
     "data": {
      "image/png": "[encoded data removed]",
      "text/plain": [
       "<Figure size 864x432 with 1 Axes>"
      ]
     },
     "metadata": {},
     "output_type": "display_data"
    }
   ],
   "source": [
    "#Hago un diagrama de Venn con las keys de los tres diccionarios. Qué tanto se parecen los DEGs en los tres casos?\n",
    "plt.rcParams['figure.figsize'] = (12,6)\n",
    "\n",
    "#Diagrama de Venn para ver solapamiento entre variantes de las tres bases de datos\n",
    "from matplotlib_venn import venn3\n",
    "\n",
    "# Diagrama de Venn para FC=1.25\n",
    "v=venn3(subsets = ([set(DE_all_dict.keys()),set(DE_BRAF_dict.keys()),set(DE_RAS_dict.keys())]),\n",
    "        set_labels = ('All', 'BRAF-like', 'RAS-like'))\n",
    "\n",
    "plt.show() "
   ]
  },
  {
   "cell_type": "code",
   "execution_count": 19,
   "metadata": {},
   "outputs": [
    {
     "data": {
      "text/plain": [
       "mrs_all_DEGs     3.105801\n",
       "mrs_BRAF_DEGs    3.878494\n",
       "mrs_RAS_DEGs    -0.483837\n",
       "Name: NFKB2, dtype: float64"
      ]
     },
     "execution_count": 19,
     "metadata": {},
     "output_type": "execute_result"
    }
   ],
   "source": [
    "#Cargamos las signatures del MRA. A cada gen y en cada comparación (all, BRAF, RAS) se le asigna un valor entre sobreexpresado\n",
    "#en cáncer (signature > 1), estable (-1 < signature < 1) y subexpresado en cáncer (signature < -1).\n",
    "MRA_DEG_df = pd.read_csv('RMA_DEG_signatures.tsv', sep='\\t')\n",
    "MRA_DEG_df = MRA_DEG_df[np.invert(MRA_DEG_df.index.duplicated())]\n",
    "MRA_DEG_df.loc['NFKB2']"
   ]
  },
  {
   "cell_type": "code",
   "execution_count": 20,
   "metadata": {},
   "outputs": [
    {
     "data": {
      "application/vnd.jupyter.widget-view+json": {
       "model_id": "19edbf1f84e94bd99b5493fc81aee4c1",
       "version_major": 2,
       "version_minor": 0
      },
      "text/plain": [
       "HBox(children=(IntProgress(value=0, max=14223), HTML(value='')))"
      ]
     },
     "metadata": {},
     "output_type": "display_data"
    },
    {
     "name": "stdout",
     "output_type": "stream",
     "text": [
      "\n"
     ]
    }
   ],
   "source": [
    "#Cargamos el logFC como atributo de la red, para cada uno de los tres análisis realizados. \n",
    "#Va a ser usado para graficar las redes ego\n",
    "DE_all_net, DE_BRAF_net, DE_RAS_net = {}, {}, {}\n",
    "for node in tqdm(ARACNe_net.nodes()):\n",
    "    #Actualizo all dict\n",
    "    value = MRA_DEG_df['mrs_all_DEGs'][node]\n",
    "    \n",
    "    if value > 1 or value < -1:\n",
    "        DE_all_net[node] = int(value/np.abs(value))\n",
    "    else:    \n",
    "        DE_all_net[node] = 0\n",
    "        \n",
    "    #Actualizo BRAF dict\n",
    "    value = MRA_DEG_df['mrs_BRAF_DEGs'][node]\n",
    "   \n",
    "    if value > 1 or value < -1:\n",
    "        DE_BRAF_net[node] = int(value/np.abs(value))\n",
    "    else:    \n",
    "        DE_BRAF_net[node] = 0\n",
    "    \n",
    "    #Actualizo all dict\n",
    "    value = MRA_DEG_df['mrs_RAS_DEGs'][node]\n",
    "    \n",
    "    if value > 1 or value < -1:\n",
    "        DE_RAS_net[node] = int(value/np.abs(value))\n",
    "    else:    \n",
    "        DE_RAS_net[node] = 0"
   ]
  },
  {
   "cell_type": "code",
   "execution_count": 21,
   "metadata": {},
   "outputs": [
    {
     "data": {
      "text/plain": [
       "-1"
      ]
     },
     "execution_count": 21,
     "metadata": {},
     "output_type": "execute_result"
    }
   ],
   "source": [
    "DE_all_net['PEG3']"
   ]
  },
  {
   "cell_type": "code",
   "execution_count": 22,
   "metadata": {},
   "outputs": [],
   "source": [
    "nx.set_node_attributes(ARACNe_net, DE_all_net, 'DEall')\n",
    "nx.set_node_attributes(ARACNe_net, DE_BRAF_net, 'DEBRAF')\n",
    "nx.set_node_attributes(ARACNe_net, DE_RAS_net, 'DERAS')"
   ]
  },
  {
   "cell_type": "code",
   "execution_count": 23,
   "metadata": {},
   "outputs": [],
   "source": [
    "#Guardo la red como GML para cargarla en gephi\n",
    "nx.write_gml(ARACNe_net, 'ARACNe_net.gml')"
   ]
  },
  {
   "cell_type": "markdown",
   "metadata": {},
   "source": [
    "# Resultados del RMA"
   ]
  },
  {
   "cell_type": "code",
   "execution_count": 24,
   "metadata": {},
   "outputs": [],
   "source": [
    "#Cargamos los resultados del análisis de Reguladores Maestros obtenidos con VIPER en R para todas las muestras,\n",
    "#para BRAF y para RAS like\n",
    "RMA_all = pd.read_csv('RMA_results_all.tsv', sep='\\t')\n",
    "RMA_BRAF = pd.read_csv('RMA_results_BRAF.tsv', sep='\\t')\n",
    "RMA_RAS = pd.read_csv('RMA_results_RAS.tsv', sep='\\t')"
   ]
  },
  {
   "cell_type": "code",
   "execution_count": 25,
   "metadata": {},
   "outputs": [],
   "source": [
    "#Cargamos los resultados de shadowing para el análisis de Reguladores Maestros.\n",
    "RMA_all_shadow = pd.read_csv('RMA_shadow_all.tsv', sep='\\t')\n",
    "RMA_BRAF_shadow = pd.read_csv('RMA_shadow_BRAF.tsv', sep='\\t')\n",
    "RMA_RAS_shadow = pd.read_csv('RMA_shadow_RAS.tsv', sep='\\t')"
   ]
  },
  {
   "cell_type": "code",
   "execution_count": 26,
   "metadata": {},
   "outputs": [
    {
     "data": {
      "text/html": [
       "<div>\n",
       "<style scoped>\n",
       "    .dataframe tbody tr th:only-of-type {\n",
       "        vertical-align: middle;\n",
       "    }\n",
       "\n",
       "    .dataframe tbody tr th {\n",
       "        vertical-align: top;\n",
       "    }\n",
       "\n",
       "    .dataframe thead th {\n",
       "        text-align: right;\n",
       "    }\n",
       "</style>\n",
       "<table border=\"1\" class=\"dataframe\">\n",
       "  <thead>\n",
       "    <tr style=\"text-align: right;\">\n",
       "      <th></th>\n",
       "      <th>Regulon</th>\n",
       "      <th>Size</th>\n",
       "      <th>NES</th>\n",
       "      <th>p.value</th>\n",
       "      <th>FDR</th>\n",
       "      <th>Synergy</th>\n",
       "      <th>Ledge</th>\n",
       "    </tr>\n",
       "  </thead>\n",
       "  <tbody>\n",
       "    <tr>\n",
       "      <th>ETV4</th>\n",
       "      <td>ETV4</td>\n",
       "      <td>154</td>\n",
       "      <td>4.49</td>\n",
       "      <td>0.000007</td>\n",
       "      <td>0.00303</td>\n",
       "      <td>NaN</td>\n",
       "      <td>RNF24, IGF2BP2, GALNT7, RAD23B, + 151 genes</td>\n",
       "    </tr>\n",
       "    <tr>\n",
       "      <th>LRRFIP2--GZF1</th>\n",
       "      <td>LRRFIP2--GZF1</td>\n",
       "      <td>27</td>\n",
       "      <td>4.22</td>\n",
       "      <td>0.000024</td>\n",
       "      <td>0.00437</td>\n",
       "      <td>0.000011</td>\n",
       "      <td>NaN</td>\n",
       "    </tr>\n",
       "    <tr>\n",
       "      <th>ETV5</th>\n",
       "      <td>ETV5</td>\n",
       "      <td>95</td>\n",
       "      <td>4.09</td>\n",
       "      <td>0.000043</td>\n",
       "      <td>0.00653</td>\n",
       "      <td>NaN</td>\n",
       "      <td>IGF2BP2, PPP5C, AGPAT4, KIAA1211L, + 77 genes</td>\n",
       "    </tr>\n",
       "    <tr>\n",
       "      <th>RARA</th>\n",
       "      <td>RARA</td>\n",
       "      <td>222</td>\n",
       "      <td>3.87</td>\n",
       "      <td>0.000110</td>\n",
       "      <td>0.00911</td>\n",
       "      <td>NaN</td>\n",
       "      <td>LRIG1, BMP1, SEMA4C, FTCDNL1, + 232 genes</td>\n",
       "    </tr>\n",
       "    <tr>\n",
       "      <th>NR1D1</th>\n",
       "      <td>NR1D1</td>\n",
       "      <td>33</td>\n",
       "      <td>3.85</td>\n",
       "      <td>0.000116</td>\n",
       "      <td>0.00911</td>\n",
       "      <td>NaN</td>\n",
       "      <td>B3GNT7, PLA2R1, TBC1D4, TDRKH-AS1, + 28 genes</td>\n",
       "    </tr>\n",
       "  </tbody>\n",
       "</table>\n",
       "</div>"
      ],
      "text/plain": [
       "                     Regulon  Size   NES   p.value      FDR   Synergy  \\\n",
       "ETV4                    ETV4   154  4.49  0.000007  0.00303       NaN   \n",
       "LRRFIP2--GZF1  LRRFIP2--GZF1    27  4.22  0.000024  0.00437  0.000011   \n",
       "ETV5                    ETV5    95  4.09  0.000043  0.00653       NaN   \n",
       "RARA                    RARA   222  3.87  0.000110  0.00911       NaN   \n",
       "NR1D1                  NR1D1    33  3.85  0.000116  0.00911       NaN   \n",
       "\n",
       "                                                       Ledge  \n",
       "ETV4             RNF24, IGF2BP2, GALNT7, RAD23B, + 151 genes  \n",
       "LRRFIP2--GZF1                                            NaN  \n",
       "ETV5           IGF2BP2, PPP5C, AGPAT4, KIAA1211L, + 77 genes  \n",
       "RARA               LRIG1, BMP1, SEMA4C, FTCDNL1, + 232 genes  \n",
       "NR1D1          B3GNT7, PLA2R1, TBC1D4, TDRKH-AS1, + 28 genes  "
      ]
     },
     "execution_count": 26,
     "metadata": {},
     "output_type": "execute_result"
    }
   ],
   "source": [
    "RMA_all.head()"
   ]
  },
  {
   "cell_type": "code",
   "execution_count": 27,
   "metadata": {},
   "outputs": [
    {
     "data": {
      "text/html": [
       "<div>\n",
       "<style scoped>\n",
       "    .dataframe tbody tr th:only-of-type {\n",
       "        vertical-align: middle;\n",
       "    }\n",
       "\n",
       "    .dataframe tbody tr th {\n",
       "        vertical-align: top;\n",
       "    }\n",
       "\n",
       "    .dataframe thead th {\n",
       "        text-align: right;\n",
       "    }\n",
       "</style>\n",
       "<table border=\"1\" class=\"dataframe\">\n",
       "  <thead>\n",
       "    <tr style=\"text-align: right;\">\n",
       "      <th></th>\n",
       "      <th>x</th>\n",
       "    </tr>\n",
       "  </thead>\n",
       "  <tbody>\n",
       "    <tr>\n",
       "      <th>1</th>\n",
       "      <td>ETV4 -&gt; RARA</td>\n",
       "    </tr>\n",
       "    <tr>\n",
       "      <th>2</th>\n",
       "      <td>TFCP2L1 -&gt; SMAD9</td>\n",
       "    </tr>\n",
       "    <tr>\n",
       "      <th>3</th>\n",
       "      <td>TFCP2L1 -&gt; HEY2</td>\n",
       "    </tr>\n",
       "    <tr>\n",
       "      <th>4</th>\n",
       "      <td>TFCP2L1 -&gt; RXRG</td>\n",
       "    </tr>\n",
       "    <tr>\n",
       "      <th>5</th>\n",
       "      <td>ZFP36L2 -&gt; ZFPM2</td>\n",
       "    </tr>\n",
       "  </tbody>\n",
       "</table>\n",
       "</div>"
      ],
      "text/plain": [
       "                  x\n",
       "1      ETV4 -> RARA\n",
       "2  TFCP2L1 -> SMAD9\n",
       "3   TFCP2L1 -> HEY2\n",
       "4   TFCP2L1 -> RXRG\n",
       "5  ZFP36L2 -> ZFPM2"
      ]
     },
     "execution_count": 27,
     "metadata": {},
     "output_type": "execute_result"
    }
   ],
   "source": [
    "RMA_all_shadow.head()"
   ]
  },
  {
   "cell_type": "markdown",
   "metadata": {},
   "source": [
    "# Extraemos las listas de genes de las redes ego para cargar en DAVID"
   ]
  },
  {
   "cell_type": "code",
   "execution_count": 28,
   "metadata": {},
   "outputs": [],
   "source": [
    "PEG3_ego = [node for node in nx.ego_graph(ARACNe_net, 'PEG3').nodes()]\n",
    "RARG_ego = [node for node in nx.ego_graph(ARACNe_net, 'RARG').nodes()]\n",
    "TFCP2L1_ego = [node for node in nx.ego_graph(ARACNe_net, 'TFCP2L1').nodes()]"
   ]
  },
  {
   "cell_type": "code",
   "execution_count": 29,
   "metadata": {},
   "outputs": [
    {
     "data": {
      "text/html": [
       "<div>\n",
       "<style scoped>\n",
       "    .dataframe tbody tr th:only-of-type {\n",
       "        vertical-align: middle;\n",
       "    }\n",
       "\n",
       "    .dataframe tbody tr th {\n",
       "        vertical-align: top;\n",
       "    }\n",
       "\n",
       "    .dataframe thead th {\n",
       "        text-align: right;\n",
       "    }\n",
       "</style>\n",
       "<table border=\"1\" class=\"dataframe\">\n",
       "  <thead>\n",
       "    <tr style=\"text-align: right;\">\n",
       "      <th></th>\n",
       "      <th>Category</th>\n",
       "      <th>Term</th>\n",
       "      <th>Count</th>\n",
       "      <th>%</th>\n",
       "      <th>PValue</th>\n",
       "      <th>Genes</th>\n",
       "      <th>List Total</th>\n",
       "      <th>Pop Hits</th>\n",
       "      <th>Pop Total</th>\n",
       "      <th>Fold Enrichment</th>\n",
       "      <th>Bonferroni</th>\n",
       "      <th>Benjamini</th>\n",
       "      <th>FDR</th>\n",
       "    </tr>\n",
       "  </thead>\n",
       "  <tbody>\n",
       "    <tr>\n",
       "      <th>0</th>\n",
       "      <td>KEGG_PATHWAY</td>\n",
       "      <td>hsa05169:Epstein-Barr virus infection</td>\n",
       "      <td>10</td>\n",
       "      <td>3.030303</td>\n",
       "      <td>0.000275</td>\n",
       "      <td>USP7, RELA, BCL2, CD58, ENTPD8, HLA-A, HLA-C, ...</td>\n",
       "      <td>122</td>\n",
       "      <td>122</td>\n",
       "      <td>6879</td>\n",
       "      <td>4.621741</td>\n",
       "      <td>0.047538</td>\n",
       "      <td>0.047538</td>\n",
       "      <td>0.337416</td>\n",
       "    </tr>\n",
       "    <tr>\n",
       "      <th>1</th>\n",
       "      <td>KEGG_PATHWAY</td>\n",
       "      <td>hsa05168:Herpes simplex infection</td>\n",
       "      <td>10</td>\n",
       "      <td>3.030303</td>\n",
       "      <td>0.004789</td>\n",
       "      <td>USP7, RELA, TICAM1, TAP1, HLA-A, HLA-C, MAPK8,...</td>\n",
       "      <td>122</td>\n",
       "      <td>183</td>\n",
       "      <td>6879</td>\n",
       "      <td>3.081161</td>\n",
       "      <td>0.572422</td>\n",
       "      <td>0.346105</td>\n",
       "      <td>5.725474</td>\n",
       "    </tr>\n",
       "    <tr>\n",
       "      <th>2</th>\n",
       "      <td>KEGG_PATHWAY</td>\n",
       "      <td>hsa05166:HTLV-I infection</td>\n",
       "      <td>12</td>\n",
       "      <td>3.636364</td>\n",
       "      <td>0.004927</td>\n",
       "      <td>E2F1, EGR1, CDKN2A, RELA, HLA-A, RRAS, HLA-C, ...</td>\n",
       "      <td>122</td>\n",
       "      <td>254</td>\n",
       "      <td>6879</td>\n",
       "      <td>2.663870</td>\n",
       "      <td>0.582827</td>\n",
       "      <td>0.252797</td>\n",
       "      <td>5.886517</td>\n",
       "    </tr>\n",
       "    <tr>\n",
       "      <th>3</th>\n",
       "      <td>KEGG_PATHWAY</td>\n",
       "      <td>hsa04612:Antigen processing and presentation</td>\n",
       "      <td>6</td>\n",
       "      <td>1.818182</td>\n",
       "      <td>0.010601</td>\n",
       "      <td>TAP1, HLA-A, HLA-C, HLA-B, CANX, CD74</td>\n",
       "      <td>122</td>\n",
       "      <td>76</td>\n",
       "      <td>6879</td>\n",
       "      <td>4.451467</td>\n",
       "      <td>0.848382</td>\n",
       "      <td>0.375996</td>\n",
       "      <td>12.269982</td>\n",
       "    </tr>\n",
       "    <tr>\n",
       "      <th>4</th>\n",
       "      <td>KEGG_PATHWAY</td>\n",
       "      <td>hsa05131:Shigellosis</td>\n",
       "      <td>5</td>\n",
       "      <td>1.515152</td>\n",
       "      <td>0.025748</td>\n",
       "      <td>NOD1, BTRC, RELA, MAPK8, RHOG</td>\n",
       "      <td>122</td>\n",
       "      <td>64</td>\n",
       "      <td>6879</td>\n",
       "      <td>4.405097</td>\n",
       "      <td>0.990119</td>\n",
       "      <td>0.602848</td>\n",
       "      <td>27.414807</td>\n",
       "    </tr>\n",
       "    <tr>\n",
       "      <th>5</th>\n",
       "      <td>KEGG_PATHWAY</td>\n",
       "      <td>hsa05212:Pancreatic cancer</td>\n",
       "      <td>5</td>\n",
       "      <td>1.515152</td>\n",
       "      <td>0.027075</td>\n",
       "      <td>E2F1, CDKN2A, RELA, MAPK8, BCL2L1</td>\n",
       "      <td>122</td>\n",
       "      <td>65</td>\n",
       "      <td>6879</td>\n",
       "      <td>4.337327</td>\n",
       "      <td>0.992237</td>\n",
       "      <td>0.555019</td>\n",
       "      <td>28.619400</td>\n",
       "    </tr>\n",
       "    <tr>\n",
       "      <th>6</th>\n",
       "      <td>KEGG_PATHWAY</td>\n",
       "      <td>hsa04330:Notch signaling pathway</td>\n",
       "      <td>4</td>\n",
       "      <td>1.212121</td>\n",
       "      <td>0.051804</td>\n",
       "      <td>DTX4, DTX2, NUMB, DVL1</td>\n",
       "      <td>122</td>\n",
       "      <td>48</td>\n",
       "      <td>6879</td>\n",
       "      <td>4.698770</td>\n",
       "      <td>0.999919</td>\n",
       "      <td>0.739475</td>\n",
       "      <td>47.971650</td>\n",
       "    </tr>\n",
       "    <tr>\n",
       "      <th>7</th>\n",
       "      <td>KEGG_PATHWAY</td>\n",
       "      <td>hsa00900:Terpenoid backbone biosynthesis</td>\n",
       "      <td>3</td>\n",
       "      <td>0.909091</td>\n",
       "      <td>0.056381</td>\n",
       "      <td>NUS1, HMGCR, HMGCS1</td>\n",
       "      <td>122</td>\n",
       "      <td>22</td>\n",
       "      <td>6879</td>\n",
       "      <td>7.688897</td>\n",
       "      <td>0.999965</td>\n",
       "      <td>0.723065</td>\n",
       "      <td>50.973502</td>\n",
       "    </tr>\n",
       "    <tr>\n",
       "      <th>8</th>\n",
       "      <td>KEGG_PATHWAY</td>\n",
       "      <td>hsa04142:Lysosome</td>\n",
       "      <td>6</td>\n",
       "      <td>1.818182</td>\n",
       "      <td>0.061600</td>\n",
       "      <td>NPC2, GALC, CTSD, CTSA, CTSC, CTSH</td>\n",
       "      <td>122</td>\n",
       "      <td>121</td>\n",
       "      <td>6879</td>\n",
       "      <td>2.795963</td>\n",
       "      <td>0.999987</td>\n",
       "      <td>0.713607</td>\n",
       "      <td>54.202287</td>\n",
       "    </tr>\n",
       "    <tr>\n",
       "      <th>9</th>\n",
       "      <td>KEGG_PATHWAY</td>\n",
       "      <td>hsa04064:NF-kappa B signaling pathway</td>\n",
       "      <td>5</td>\n",
       "      <td>1.515152</td>\n",
       "      <td>0.066601</td>\n",
       "      <td>RELA, BCL2, TICAM1, BCL2L1, PLAU</td>\n",
       "      <td>122</td>\n",
       "      <td>87</td>\n",
       "      <td>6879</td>\n",
       "      <td>3.240531</td>\n",
       "      <td>0.999995</td>\n",
       "      <td>0.704749</td>\n",
       "      <td>57.111605</td>\n",
       "    </tr>\n",
       "    <tr>\n",
       "      <th>10</th>\n",
       "      <td>KEGG_PATHWAY</td>\n",
       "      <td>hsa04530:Tight junction</td>\n",
       "      <td>5</td>\n",
       "      <td>1.515152</td>\n",
       "      <td>0.066601</td>\n",
       "      <td>MAGI1, MPP5, YBX3, MYL12B, MYL12A</td>\n",
       "      <td>122</td>\n",
       "      <td>87</td>\n",
       "      <td>6879</td>\n",
       "      <td>3.240531</td>\n",
       "      <td>0.999995</td>\n",
       "      <td>0.704749</td>\n",
       "      <td>57.111605</td>\n",
       "    </tr>\n",
       "    <tr>\n",
       "      <th>11</th>\n",
       "      <td>KEGG_PATHWAY</td>\n",
       "      <td>hsa05203:Viral carcinogenesis</td>\n",
       "      <td>8</td>\n",
       "      <td>2.424242</td>\n",
       "      <td>0.069009</td>\n",
       "      <td>USP7, HDAC4, CDKN2A, GTF2H2C, RELA, HLA-A, HLA...</td>\n",
       "      <td>122</td>\n",
       "      <td>205</td>\n",
       "      <td>6879</td>\n",
       "      <td>2.200400</td>\n",
       "      <td>0.999997</td>\n",
       "      <td>0.683548</td>\n",
       "      <td>58.450777</td>\n",
       "    </tr>\n",
       "    <tr>\n",
       "      <th>12</th>\n",
       "      <td>KEGG_PATHWAY</td>\n",
       "      <td>hsa04340:Hedgehog signaling pathway</td>\n",
       "      <td>3</td>\n",
       "      <td>0.909091</td>\n",
       "      <td>0.080985</td>\n",
       "      <td>CSNK1G1, BTRC, LRP2</td>\n",
       "      <td>122</td>\n",
       "      <td>27</td>\n",
       "      <td>6879</td>\n",
       "      <td>6.265027</td>\n",
       "      <td>1.000000</td>\n",
       "      <td>0.712257</td>\n",
       "      <td>64.560125</td>\n",
       "    </tr>\n",
       "  </tbody>\n",
       "</table>\n",
       "</div>"
      ],
      "text/plain": [
       "        Category                                          Term  Count  \\\n",
       "0   KEGG_PATHWAY         hsa05169:Epstein-Barr virus infection     10   \n",
       "1   KEGG_PATHWAY             hsa05168:Herpes simplex infection     10   \n",
       "2   KEGG_PATHWAY                     hsa05166:HTLV-I infection     12   \n",
       "3   KEGG_PATHWAY  hsa04612:Antigen processing and presentation      6   \n",
       "4   KEGG_PATHWAY                          hsa05131:Shigellosis      5   \n",
       "5   KEGG_PATHWAY                    hsa05212:Pancreatic cancer      5   \n",
       "6   KEGG_PATHWAY              hsa04330:Notch signaling pathway      4   \n",
       "7   KEGG_PATHWAY      hsa00900:Terpenoid backbone biosynthesis      3   \n",
       "8   KEGG_PATHWAY                             hsa04142:Lysosome      6   \n",
       "9   KEGG_PATHWAY         hsa04064:NF-kappa B signaling pathway      5   \n",
       "10  KEGG_PATHWAY                       hsa04530:Tight junction      5   \n",
       "11  KEGG_PATHWAY                 hsa05203:Viral carcinogenesis      8   \n",
       "12  KEGG_PATHWAY           hsa04340:Hedgehog signaling pathway      3   \n",
       "\n",
       "           %    PValue                                              Genes  \\\n",
       "0   3.030303  0.000275  USP7, RELA, BCL2, CD58, ENTPD8, HLA-A, HLA-C, ...   \n",
       "1   3.030303  0.004789  USP7, RELA, TICAM1, TAP1, HLA-A, HLA-C, MAPK8,...   \n",
       "2   3.636364  0.004927  E2F1, EGR1, CDKN2A, RELA, HLA-A, RRAS, HLA-C, ...   \n",
       "3   1.818182  0.010601              TAP1, HLA-A, HLA-C, HLA-B, CANX, CD74   \n",
       "4   1.515152  0.025748                      NOD1, BTRC, RELA, MAPK8, RHOG   \n",
       "5   1.515152  0.027075                  E2F1, CDKN2A, RELA, MAPK8, BCL2L1   \n",
       "6   1.212121  0.051804                             DTX4, DTX2, NUMB, DVL1   \n",
       "7   0.909091  0.056381                                NUS1, HMGCR, HMGCS1   \n",
       "8   1.818182  0.061600                 NPC2, GALC, CTSD, CTSA, CTSC, CTSH   \n",
       "9   1.515152  0.066601                   RELA, BCL2, TICAM1, BCL2L1, PLAU   \n",
       "10  1.515152  0.066601                  MAGI1, MPP5, YBX3, MYL12B, MYL12A   \n",
       "11  2.424242  0.069009  USP7, HDAC4, CDKN2A, GTF2H2C, RELA, HLA-A, HLA...   \n",
       "12  0.909091  0.080985                                CSNK1G1, BTRC, LRP2   \n",
       "\n",
       "    List Total  Pop Hits  Pop Total  Fold Enrichment  Bonferroni  Benjamini  \\\n",
       "0          122       122       6879         4.621741    0.047538   0.047538   \n",
       "1          122       183       6879         3.081161    0.572422   0.346105   \n",
       "2          122       254       6879         2.663870    0.582827   0.252797   \n",
       "3          122        76       6879         4.451467    0.848382   0.375996   \n",
       "4          122        64       6879         4.405097    0.990119   0.602848   \n",
       "5          122        65       6879         4.337327    0.992237   0.555019   \n",
       "6          122        48       6879         4.698770    0.999919   0.739475   \n",
       "7          122        22       6879         7.688897    0.999965   0.723065   \n",
       "8          122       121       6879         2.795963    0.999987   0.713607   \n",
       "9          122        87       6879         3.240531    0.999995   0.704749   \n",
       "10         122        87       6879         3.240531    0.999995   0.704749   \n",
       "11         122       205       6879         2.200400    0.999997   0.683548   \n",
       "12         122        27       6879         6.265027    1.000000   0.712257   \n",
       "\n",
       "          FDR  \n",
       "0    0.337416  \n",
       "1    5.725474  \n",
       "2    5.886517  \n",
       "3   12.269982  \n",
       "4   27.414807  \n",
       "5   28.619400  \n",
       "6   47.971650  \n",
       "7   50.973502  \n",
       "8   54.202287  \n",
       "9   57.111605  \n",
       "10  57.111605  \n",
       "11  58.450777  \n",
       "12  64.560125  "
      ]
     },
     "execution_count": 29,
     "metadata": {},
     "output_type": "execute_result"
    }
   ],
   "source": [
    "PEG3_PATHWAYS = pd.read_csv('PEG3_KEGG_chart.txt', sep='\\t')\n",
    "PEG3_TISSUE = pd.read_csv('PEG3_TISSUE_chart.txt', sep='\\t')\n",
    "PEG3_PATHWAYS"
   ]
  },
  {
   "cell_type": "code",
   "execution_count": 30,
   "metadata": {},
   "outputs": [
    {
     "data": {
      "image/png": "[encoded data removed]",
      "text/plain": [
       "<Figure size 864x432 with 1 Axes>"
      ]
     },
     "metadata": {},
     "output_type": "display_data"
    }
   ],
   "source": [
    "nfkb_genes =  [\"PEG3\",\"RELA\", \"BCL2\", \"TICAM1\", \"BCL2L1\", \"PLAU\",\"NFKB2\"]\n",
    "\n",
    "G = ARACNe_net.subgraph( nfkb_genes )\n",
    "pos = nx.circular_layout(G)\n",
    "nx.draw_networkx(G,label=True,pos=pos)\n",
    "nx.write_gml(G,\"NFkB_subgraph.gml\")\n"
   ]
  },
  {
   "cell_type": "code",
   "execution_count": 31,
   "metadata": {},
   "outputs": [],
   "source": [
    "#Genero un grafo con todos los genes de la lista NFkB que me pasó Romi"
   ]
  },
  {
   "cell_type": "markdown",
   "metadata": {},
   "source": [
    "# Desarmado de la red"
   ]
  },
  {
   "cell_type": "code",
   "execution_count": 51,
   "metadata": {},
   "outputs": [
    {
     "data": {
      "application/vnd.jupyter.widget-view+json": {
       "model_id": "634ab82686e843289cc4eca5b05972d7",
       "version_major": 2,
       "version_minor": 0
      },
      "text/plain": [
       "HBox(children=(IntProgress(value=0, max=901), HTML(value='')))"
      ]
     },
     "metadata": {},
     "output_type": "display_data"
    },
    {
     "name": "stdout",
     "output_type": "stream",
     "text": [
      "\n"
     ]
    }
   ],
   "source": [
    "#Desarmado por RM BRAF\n",
    "RM_BRAF=list(RMA_BRAF.loc[:,'Regulon'])\n",
    "checked_BRAF=[]\n",
    "sizes_BRAF =[] #tamaño de los componentes\n",
    "\n",
    "red_a_desarmar = nx.Graph(edgelist)\n",
    "\n",
    "for nodo in tqdm(RM_BRAF):\n",
    "    for node in nodo.split('--'):\n",
    "        if node not in checked_BRAF:\n",
    "            cs = sorted(nx.connected_components( red_a_desarmar ), key=lambda x:len(x),reverse=True)\n",
    "            red_a_desarmar.remove_node(node)\n",
    "            checked_BRAF.append(node)\n",
    "            sizes_BRAF.append([len(cc) for cc in  cs]) "
   ]
  },
  {
   "cell_type": "code",
   "execution_count": 52,
   "metadata": {},
   "outputs": [
    {
     "data": {
      "application/vnd.jupyter.widget-view+json": {
       "model_id": "a0bbc0ec23a84062aadfb0bd8d60064f",
       "version_major": 2,
       "version_minor": 0
      },
      "text/plain": [
       "HBox(children=(IntProgress(value=0, max=899), HTML(value='')))"
      ]
     },
     "metadata": {},
     "output_type": "display_data"
    },
    {
     "name": "stdout",
     "output_type": "stream",
     "text": [
      "\n"
     ]
    }
   ],
   "source": [
    "#Desarmado por RM RAS\n",
    "RM_RAS=list(RMA_RAS.loc[:,'Regulon'])\n",
    "checked_RAS=[]\n",
    "sizes_RAS =[] #tamaño de los componentes\n",
    "\n",
    "red_a_desarmar = nx.Graph(edgelist)\n",
    "\n",
    "for nodo in tqdm(RM_RAS):\n",
    "    for node in nodo.split('--'):\n",
    "        if node not in checked_RAS:\n",
    "            cs = sorted(nx.connected_components( red_a_desarmar ), key=lambda x:len(x),reverse=True)\n",
    "            red_a_desarmar.remove_node(node)\n",
    "            checked_RAS.append(node)\n",
    "            sizes_RAS.append([len(cc) for cc in  cs]) "
   ]
  },
  {
   "cell_type": "code",
   "execution_count": 53,
   "metadata": {},
   "outputs": [
    {
     "data": {
      "application/vnd.jupyter.widget-view+json": {
       "model_id": "e1479d6b024946c19ef50db8581c58d4",
       "version_major": 2,
       "version_minor": 0
      },
      "text/plain": [
       "HBox(children=(IntProgress(value=0, max=14223), HTML(value='')))"
      ]
     },
     "metadata": {},
     "output_type": "display_data"
    },
    {
     "name": "stdout",
     "output_type": "stream",
     "text": [
      "\n"
     ]
    }
   ],
   "source": [
    "#Desarmado por grado\n",
    "red_a_desarmar = nx.Graph(edgelist)\n",
    "sorted_node_list=sorted(ARACNe_net.degree(), key=lambda x: x[1], reverse=True)\n",
    "sizes_degree =[] #tamaño de los componentes\n",
    "\n",
    "for nodo in tqdm(sorted_node_list):\n",
    "    cs = sorted(nx.connected_components( red_a_desarmar ), key=lambda x:len(x),reverse=True)  \n",
    "    red_a_desarmar.remove_node(nodo[0])\n",
    "    sizes_degree.append([len(cc) for cc in  cs]) "
   ]
  },
  {
   "cell_type": "code",
   "execution_count": 66,
   "metadata": {},
   "outputs": [
    {
     "data": {
      "application/vnd.jupyter.widget-view+json": {
       "model_id": "a3ee05805d7041229bb0a3c197701584",
       "version_major": 2,
       "version_minor": 0
      },
      "text/plain": [
       "HBox(children=(IntProgress(value=0, max=14223), HTML(value='')))"
      ]
     },
     "metadata": {},
     "output_type": "display_data"
    }
   ],
   "source": [
    "#Desarmado aleatorio\n",
    "red_a_desarmar = nx.Graph(edgelist)\n",
    "sorted_node_list = list(red_a_desarmar.nodes())\n",
    "shuffle(sorted_node_list)\n",
    "\n",
    "sizes_random = [] #tamaño de los componentes\n",
    "for nodo in tqdm(sorted_node_list):\n",
    "    cs = sorted(nx.connected_components( red_a_desarmar ), key=lambda x:len(x),reverse=True)  \n",
    "    red_a_desarmar.remove_node(nodo)\n",
    "    sizes_random.append([len(cc) for cc in  cs])"
   ]
  },
  {
   "cell_type": "code",
   "execution_count": 100,
   "metadata": {},
   "outputs": [
    {
     "data": {
      "application/vnd.jupyter.widget-view+json": {
       "model_id": "eed612c6ce7d4be88c2bd4cf781059ee",
       "version_major": 2,
       "version_minor": 0
      },
      "text/plain": [
       "HBox(children=(IntProgress(value=0, max=14223), HTML(value='')))"
      ]
     },
     "metadata": {},
     "output_type": "display_data"
    }
   ],
   "source": [
    "#Desarmado por betweenness\n",
    "red_a_desarmar = nx.Graph(edgelist)\n",
    "sorted_node_list = [k for k,v in sorted(nx.betweenness_centrality(red_a_desarmar).items(),key=lambda x:x[1],reverse=True)]\n",
    "sizes_betweenness =[] #tamaño de los componentes\n",
    "for nodo in tqdm(sorted_node_list):\n",
    "    cs = sorted(nx.connected_components( red_a_desarmar ), key=lambda x:len(x),reverse=True)  \n",
    "    red_a_desarmar.remove_node(nodo)\n",
    "    sizes_betweenness.append([len(cc) for cc in  cs])"
   ]
  },
  {
   "cell_type": "code",
   "execution_count": 104,
   "metadata": {},
   "outputs": [
    {
     "data": {
      "image/png": "[encoded data removed]",
      "text/plain": [
       "<Figure size 864x432 with 1 Axes>"
      ]
     },
     "metadata": {},
     "output_type": "display_data"
    }
   ],
   "source": [
    "plt.plot([i[0] for i in sizes_random], label='Random')\n",
    "plt.plot([i[0] for i in sizes_BRAF], label='RMA-BRAF')\n",
    "plt.plot([i[0] for i in sizes_RAS], label='RMA-RAS')\n",
    "plt.plot([i[0] for i in sizes_degree], label='Degree')\n",
    "plt.plot([i[0] for i in sizes_betweenness], label='Betweenness')\n",
    "\n",
    "plt.title('Desarmado de la red por diversos criterios')\n",
    "plt.xlabel('Nodos removidos')\n",
    "plt.ylabel('Tamaño de la componente gigante')\n",
    "plt.legend()\n",
    "plt.show()"
   ]
  },
  {
   "cell_type": "code",
   "execution_count": 105,
   "metadata": {},
   "outputs": [
    {
     "data": {
      "image/png": "[encoded data removed]",
      "text/plain": [
       "<Figure size 864x432 with 1 Axes>"
      ]
     },
     "metadata": {},
     "output_type": "display_data"
    }
   ],
   "source": [
    "plt.plot([i[0] for i in sizes_BRAF], label='RMA-BRAF')\n",
    "plt.plot([i[0] for i in sizes_RAS], label='RMA-RAS')\n",
    "plt.plot([i[0] for i in sizes_degree], label='Degree')\n",
    "plt.plot([i[0] for i in sizes_betweenness], label='Betweenness')\n",
    "#plt.plot([i[0] for i in sizes_random], label='Random')\n",
    "\n",
    "plt.title('Desarmado de la red por diversos criterios')\n",
    "plt.xlabel('Nodos removidos')\n",
    "plt.ylabel('Tamaño de la componente gigante')\n",
    "plt.xlim(0,900)\n",
    "plt.ylim(2300,15000)\n",
    "plt.legend()\n",
    "plt.show()"
   ]
  },
  {
   "cell_type": "code",
   "execution_count": null,
   "metadata": {
    "scrolled": false
   },
   "outputs": [],
   "source": []
  }
 ],
 "metadata": {
  "kernelspec": {
   "display_name": "Python 3",
   "language": "python",
   "name": "python3"
  },
  "language_info": {
   "codemirror_mode": {
    "name": "ipython",
    "version": 3
   },
   "file_extension": ".py",
   "mimetype": "text/x-python",
   "name": "python",
   "nbconvert_exporter": "python",
   "pygments_lexer": "ipython3",
   "version": "3.6.6"
  },
  "toc": {
   "base_numbering": 1,
   "nav_menu": {},
   "number_sections": true,
   "sideBar": true,
   "skip_h1_title": false,
   "title_cell": "Table of Contents",
   "title_sidebar": "Contents",
   "toc_cell": false,
   "toc_position": {},
   "toc_section_display": true,
   "toc_window_display": false
  },
  "varInspector": {
   "cols": {
    "lenName": 16,
    "lenType": 16,
    "lenVar": 40
   },
   "kernels_config": {
    "python": {
     "delete_cmd_postfix": "",
     "delete_cmd_prefix": "del ",
     "library": "var_list.py",
     "varRefreshCmd": "print(var_dic_list())"
    },
    "r": {
     "delete_cmd_postfix": ") ",
     "delete_cmd_prefix": "rm(",
     "library": "var_list.r",
     "varRefreshCmd": "cat(var_dic_list()) "
    }
   },
   "types_to_exclude": [
    "module",
    "function",
    "builtin_function_or_method",
    "instance",
    "_Feature"
   ],
   "window_display": false
  }
 },
 "nbformat": 4,
 "nbformat_minor": 2
}
